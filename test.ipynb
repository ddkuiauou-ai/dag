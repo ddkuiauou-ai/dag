{
 "cells": [
  {
   "cell_type": "code",
   "execution_count": 1,
   "id": "a3a74f25",
   "metadata": {},
   "outputs": [
    {
     "name": "stderr",
     "output_type": "stream",
     "text": [
      "/Users/craigchoi/silla/dag/.venv/lib/python3.12/site-packages/pykrx/__init__.py:4: UserWarning: pkg_resources is deprecated as an API. See https://setuptools.pypa.io/en/latest/pkg_resources.html. The pkg_resources package is slated for removal as early as 2025-11-30. Refrain from using this package or pin to Setuptools<81.\n",
      "  import pkg_resources\n"
     ]
    },
    {
     "name": "stdout",
     "output_type": "stream",
     "text": [
      "            시가      고가      저가      종가     거래량        거래대금   등락률  \\\n",
      "티커                                                                 \n",
      "095570    3725    3740    3700    3730   86546   322155280  0.81   \n",
      "006840   10250   10270   10030   10120    8522    86172610 -1.27   \n",
      "027410    3515    3625    3505    3595  216657   776782289  2.28   \n",
      "282330  105200  105200  103900  104300   17668  1841963450  0.29   \n",
      "138930   10440   10460   10340   10420  562480  5861629090  0.77   \n",
      "\n",
      "                 시가총액  \n",
      "티커                     \n",
      "095570   168792791070  \n",
      "006840   134065317320  \n",
      "027410   344101863645  \n",
      "282330  1802711395800  \n",
      "138930  3317556267980  \n"
     ]
    }
   ],
   "source": [
    "import pandas as pd\n",
    "from pykrx import stock as krx\n",
    "\n",
    "df = krx.get_market_ohlcv(\n",
    "    market=\"KOSPI\",\n",
    "    date=\"20250423\",\n",
    ")\n",
    "\n",
    "# df = krx.get_market_cap(date=\"20250423\", market=\"KOSPI\")\n",
    "\n",
    "print(df.head())"
   ]
  },
  {
   "cell_type": "code",
   "execution_count": 7,
   "id": "6c38861d",
   "metadata": {},
   "outputs": [
    {
     "name": "stdout",
     "output_type": "stream",
     "text": [
      "Connecting to Turso at libsql://jeil-craigchoi.aws-ap-northeast-1.turso.io\n",
      "[(1, 'first@example.org'), (2, 'second@example.org'), (3, 'third@example.org')]\n"
     ]
    }
   ],
   "source": [
    "import os\n",
    "import libsql_experimental as libsql\n",
    "\n",
    "url = os.getenv(\"TURSO_DATABASE_URL\")\n",
    "auth_token = os.getenv(\"TURSO_AUTH_TOKEN\")\n",
    "\n",
    "conn = libsql.connect( url, auth_token=auth_token)\n",
    "\n",
    "\n",
    "cur = conn.cursor()\n",
    "\n",
    "cur.executescript(\n",
    "    \"\"\"\n",
    "        DROP TABLE IF EXISTS users;\n",
    "        CREATE TABLE users (id INTEGER, name TEXT);\n",
    "        INSERT INTO users VALUES (1, 'first@example.org');\n",
    "        INSERT INTO users VALUES (2, 'second@example.org');\n",
    "        INSERT INTO users VALUES (3, 'third@example.org');\n",
    "    \"\"\"\n",
    ")\n",
    "\n",
    "print(conn.execute(\"select * from users\").fetchall())"
   ]
  }
 ],
 "metadata": {
  "kernelspec": {
   "display_name": ".venv (3.12.10)",
   "language": "python",
   "name": "python3"
  },
  "language_info": {
   "codemirror_mode": {
    "name": "ipython",
    "version": 3
   },
   "file_extension": ".py",
   "mimetype": "text/x-python",
   "name": "python",
   "nbconvert_exporter": "python",
   "pygments_lexer": "ipython3",
   "version": "3.12.10"
  }
 },
 "nbformat": 4,
 "nbformat_minor": 5
}
